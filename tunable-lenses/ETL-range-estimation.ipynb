{
 "cells": [
  {
   "cell_type": "markdown",
   "metadata": {},
   "source": [
    "## Estimating the z-tuning range of a two-photon microscope equipped with an electrically tunable lens"
   ]
  },
  {
   "cell_type": "markdown",
   "metadata": {},
   "source": [
    "### TODO\n",
    "\n",
    "- [ ] add plots for the tuning range\n",
    "- [ ] add light-sheet calculations"
   ]
  },
  {
   "cell_type": "code",
   "execution_count": 1,
   "metadata": {
    "collapsed": true
   },
   "outputs": [],
   "source": [
    "import matplotlib.pyplot as plt\n",
    "import numpy as np\n",
    "#plt.style.use('dark_background')"
   ]
  },
  {
   "cell_type": "code",
   "execution_count": 2,
   "metadata": {
    "collapsed": true
   },
   "outputs": [],
   "source": [
    "# 16x Multiarea N-beam config, 6 mm mirrors, ETL-range optimized excitation path\n",
    "f_ETL_min = -100\n",
    "f_ETL_max = 100\n",
    "#f_OL = -150\n",
    "f_RL1 = 140\n",
    "f_RL2 = 100\n",
    "f_SL = 89\n",
    "f_TL = 200\n",
    "f_OBJ = 12.5\n",
    "n = 1.33"
   ]
  },
  {
   "cell_type": "markdown",
   "metadata": {},
   "source": [
    "Formula for the offset:\n",
    "\n",
    "$$ \\Delta z = \\frac{n}{f_{ETL}}\\cdot\\left(\\frac{f_{RL1}}{f_{RL2}}\\right)^2 \\cdot \\left(\\frac{f_{SL}}{f_{TL}}\\right)^2\\cdot f_{OBJ}^2$$\n",
    "\n",
    "$$ \\Delta z = n \\cdot \\frac{f_{OL}+f_{ETL}}{f_{OL} \\cdot f_{ETL}}\\cdot\\left(\\frac{f_{RL1}}{f_{RL2}}\\right)^2 \\cdot \\left(\\frac{f_{SL}}{f_{TL}}\\right)^2\\cdot f_{OBJ}^2$$"
   ]
  },
  {
   "cell_type": "code",
   "execution_count": 3,
   "metadata": {
    "collapsed": true
   },
   "outputs": [],
   "source": [
    "def delta_z(n, f_ETL, f_RL1, f_RL2, f_SL, f_TL, f_OBJ):\n",
    "    return np.divide(n, f_ETL)*np.power(np.divide(f_RL1,f_RL2),2)*np.power(np.divide(f_SL,f_TL),2)*np.power(f_OBJ,2)\n",
    "\n",
    "def delta_z_OL(n, f_ETL, f_OL, f_RL1, f_RL2, f_SL, f_TL, f_OBJ):\n",
    "    return n * np.divide(f_OL+f_ETL, f_OL*f_ETL)*np.power(np.divide(f_RL1,f_RL2),2)*np.power(np.divide(f_SL,f_TL),2)*np.power(f_OBJ,2)"
   ]
  },
  {
   "cell_type": "code",
   "execution_count": 4,
   "metadata": {
    "collapsed": true
   },
   "outputs": [],
   "source": [
    "x = np.linspace(100, -100, 1000)\n",
    "ETL_focal_lengths = np.linspace(80, 230, 1000)"
   ]
  },
  {
   "cell_type": "code",
   "execution_count": 5,
   "metadata": {},
   "outputs": [],
   "source": [
    "delta_z_array = delta_z_OL(1.33, ETL_focal_lengths, -150, 140, 100, 89, 200, 12.5)"
   ]
  },
  {
   "cell_type": "code",
   "execution_count": 6,
   "metadata": {},
   "outputs": [
    {
     "data": {
      "image/png": "[encoded data removed]",
      "text/plain": [
       "<matplotlib.figure.Figure at 0x7f93c4447b38>"
      ]
     },
     "metadata": {},
     "output_type": "display_data"
    }
   ],
   "source": [
    "fig = plt.figure()\n",
    "\n",
    "titlestring =  'Tunable lens range'\n",
    "\n",
    "plt.title(titlestring,fontsize=15)\n",
    "plt.grid(True)\n",
    "\n",
    "fig.set_size_inches(10, 8)\n",
    "ax = fig.add_subplot(111)\n",
    "plt.plot(ETL_focal_lengths, delta_z_array,'r', label='Tunable lens')\n",
    "\n",
    "#legend = ax.legend()\n",
    "#ax.set_yscale('log')\n",
    "ax.set_xlabel('Tunable lens EFL in mm')\n",
    "ax.set_ylabel('Offset in mm')\n",
    "ax.xaxis.label.set_size(15)\n",
    "ax.yaxis.label.set_size(15)\n",
    "\n",
    "plt.show()"
   ]
  },
  {
   "cell_type": "code",
   "execution_count": 7,
   "metadata": {
    "collapsed": true
   },
   "outputs": [],
   "source": [
    "# 16x Multiarea N-beam config, 10 mm mirrors, ETL-range optimized excitation path\n",
    "f_ETL_min = 80\n",
    "f_ETL_max = 230\n",
    "f_OL = -150\n",
    "f_RL1 = 80\n",
    "f_RL2 = 89\n",
    "f_SL = 89\n",
    "f_TL = 200\n",
    "f_OBJ = 12.5\n",
    "n = 1.33"
   ]
  }
 ],
 "metadata": {
  "kernelspec": {
   "display_name": "Python 3",
   "language": "python",
   "name": "python3"
  },
  "language_info": {
   "codemirror_mode": {
    "name": "ipython",
    "version": 3
   },
   "file_extension": ".py",
   "mimetype": "text/x-python",
   "name": "python",
   "nbconvert_exporter": "python",
   "pygments_lexer": "ipython3",
   "version": "3.6.1"
  }
 },
 "nbformat": 4,
 "nbformat_minor": 2
}
