{
 "cells": [
  {
   "cell_type": "markdown",
   "metadata": {},
   "source": [
    "## Estimating the z-tuning range of a two-photon microscope equipped with an electrically tunable lens"
   ]
  },
  {
   "cell_type": "markdown",
   "metadata": {},
   "source": [
    "### TODO\n",
    "\n",
    "- [ ] add plots for the tuning range\n",
    "- [ ] add light-sheet calculations"
   ]
  },
  {
   "cell_type": "code",
   "execution_count": 2,
   "metadata": {
    "collapsed": true
   },
   "outputs": [],
   "source": [
    "# 16x Multiarea N-beam config, 6 mm mirrors, ETL-range optimized excitation path\n",
    "f_ETL_min = -100\n",
    "f_ETL_max = 100\n",
    "#f_OL = -150\n",
    "f_RL1 = 140\n",
    "f_RL2 = 100\n",
    "f_SL = 89\n",
    "f_TL = 200\n",
    "f_OBJ = 12.5\n",
    "n = 1.33"
   ]
  },
  {
   "cell_type": "markdown",
   "metadata": {},
   "source": [
    "Formula for the offset:\n",
    "\n",
    "$$ \\Delta z = \\frac{n}{f_{ETL}}\\cdot\\left(\\frac{f_{RL1}}{f_{RL2}}\\right)^2 \\cdot \\left(\\frac{f_{SL}}{f_{TL}}\\right)^2$$\n",
    "\n"
   ]
  },
  {
   "cell_type": "code",
   "execution_count": 3,
   "metadata": {
    "collapsed": true
   },
   "outputs": [],
   "source": [
    "# 16x Multiarea N-beam config, 10 mm mirrors, ETL-range optimized excitation path\n",
    "f_ETL_min = 80\n",
    "f_ETL_max = 230\n",
    "f_OL = -150\n",
    "f_RL1 = 80\n",
    "f_RL2 = 89\n",
    "f_SL = 89\n",
    "f_TL = 200\n",
    "f_OBJ = 12.5\n",
    "n = 1.33"
   ]
  }
 ],
 "metadata": {
  "kernelspec": {
   "display_name": "Python 3",
   "language": "python",
   "name": "python3"
  },
  "language_info": {
   "codemirror_mode": {
    "name": "ipython",
    "version": 3
   },
   "file_extension": ".py",
   "mimetype": "text/x-python",
   "name": "python",
   "nbconvert_exporter": "python",
   "pygments_lexer": "ipython3",
   "version": "3.6.3"
  }
 },
 "nbformat": 4,
 "nbformat_minor": 2
}
