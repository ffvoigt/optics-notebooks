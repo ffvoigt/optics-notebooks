{
 "cells": [
  {
   "cell_type": "markdown",
   "metadata": {},
   "source": [
    "### Knife Edge Fit Notebook"
   ]
  },
  {
   "cell_type": "code",
   "execution_count": 1,
   "metadata": {},
   "outputs": [
    {
     "name": "stdout",
     "output_type": "stream",
     "text": [
      "Populating the interactive namespace from numpy and matplotlib\n"
     ]
    }
   ],
   "source": [
    "%pylab inline\n",
    "import pandas\n",
    "import scipy as sp\n",
    "import numpy as np\n",
    "import matplotlib.pyplot as plt\n",
    "from scipy.optimize import curve_fit\n",
    "from scipy import stats\n",
    "from scipy.special import erf\n",
    "#plt.style.use('dark_background')\n"
   ]
  },
  {
   "cell_type": "markdown",
   "metadata": {},
   "source": [
    "#### Things to do ####\n",
    "\n",
    "* Write some documentation on the logic of this\n",
    "* better guessing of starting parameters: when & why does the fit fail?\n",
    "* use pandas in a better way\n",
    "* add more test-case plots\n",
    "* improve usability: you want to add data entry after data entry to emulate working with this notebook in the lab\n",
    "* save flags or not? if yes, save data in .csv\n",
    "* how to make using this easier? "
   ]
  },
  {
   "cell_type": "markdown",
   "metadata": {},
   "source": [
    "### Fitting function\n",
    "$$ P_{\\text{meas}}=\\frac{P_0}{2}\\left[1\\pm \\text{erf}\\left(\\frac{\\sqrt{2}(x-x_0)}{r}\\right)\\right]$$"
   ]
  },
  {
   "cell_type": "code",
   "execution_count": 5,
   "metadata": {
    "collapsed": true
   },
   "outputs": [],
   "source": [
    "def func_rising(x, power, x0, e2radius):\n",
    "    return power/2*(1+erf(sqrt(2)*(x - x0)/e2radius))\n",
    "\n",
    "def func_falling(x, power, x0, e2radius):\n",
    "    return power/2*(1-erf(sqrt(2)*(x - x0)/e2radius))"
   ]
  },
  {
   "cell_type": "markdown",
   "metadata": {},
   "source": [
    "### Example data"
   ]
  },
  {
   "cell_type": "code",
   "execution_count": 8,
   "metadata": {
    "collapsed": true
   },
   "outputs": [],
   "source": [
    "x = [5700,5775,5850,5925,6000,6075, 6150, 6225, 6300, 6375, 6450, 6525]\n",
    "p = [2,1.98, 1.96, 1.87, 1.72, 1.39, 1.08, 0.76,0.467, 0.25, 0.114, 0.046]"
   ]
  },
  {
   "cell_type": "code",
   "execution_count": 4,
   "metadata": {
    "collapsed": true
   },
   "outputs": [],
   "source": [
    "x = [12,11.5,11,10.5,10,9.5,9,8.5,8,7.5,7,6.5,6,5.5,5,4.5,4,3.5,3]\n",
    "p = [107.4,107.4,107.3,107,106.3,104.6,101,94,84.3,71.2,55.5,40.5,28,16.5,9.6,4.6,1.9,0.8,0.37]"
   ]
  },
  {
   "cell_type": "code",
   "execution_count": 59,
   "metadata": {
    "collapsed": true
   },
   "outputs": [],
   "source": [
    "# Maitai, 1024 nm, Bias 90V, Deep See at 61.32, Measurement on January 6th, 2017\n",
    "x = [0,0.5,1,1.5,2,2.5,3,4,5,6,7,8,9,10,11,12,13,14,15,16,17,18,19,20,21]\n",
    "p = [36.4,36.3,36.3,36.3,36.3,36.3,36.3,36.2,36,35.6,34.7,33.3,31.0,27.8,23.4,18.1,12.9,8.8,5.38,3.1,1.47,0.65,0.24,0.06,0.07] "
   ]
  },
  {
   "cell_type": "code",
   "execution_count": 6,
   "metadata": {
    "collapsed": true
   },
   "outputs": [],
   "source": [
    "# VECSEL, 1026 nm, Bias 150V, Measurement on January 6th, 2017\n",
    "x = [0,0.5,1,1.5,2,2.5,3,4,5,6,7,8,9,10,11,12,13,14,15,16,17,18,19,20,21]\n",
    "p = [37.1,37.1,37.1,37.2,37.2,37.2,37.2,37.1,37.1,36.9,36.5,35.6,33.9,31.2,27.2,21.8,15.9,10.14,5.33,2.3,0.8,0.28,0.29,0.27,0.07] "
   ]
  },
  {
   "cell_type": "code",
   "execution_count": 7,
   "metadata": {},
   "outputs": [
    {
     "data": {
      "text/html": [
       "<div>\n",
       "<style>\n",
       "    .dataframe thead tr:only-child th {\n",
       "        text-align: right;\n",
       "    }\n",
       "\n",
       "    .dataframe thead th {\n",
       "        text-align: left;\n",
       "    }\n",
       "\n",
       "    .dataframe tbody tr th {\n",
       "        vertical-align: top;\n",
       "    }\n",
       "</style>\n",
       "<table border=\"1\" class=\"dataframe\">\n",
       "  <thead>\n",
       "    <tr style=\"text-align: right;\">\n",
       "      <th></th>\n",
       "      <th>Intensity</th>\n",
       "      <th>Position</th>\n",
       "    </tr>\n",
       "  </thead>\n",
       "  <tbody>\n",
       "    <tr>\n",
       "      <th>0</th>\n",
       "      <td>37.10</td>\n",
       "      <td>0.0</td>\n",
       "    </tr>\n",
       "    <tr>\n",
       "      <th>1</th>\n",
       "      <td>37.10</td>\n",
       "      <td>0.5</td>\n",
       "    </tr>\n",
       "    <tr>\n",
       "      <th>2</th>\n",
       "      <td>37.10</td>\n",
       "      <td>1.0</td>\n",
       "    </tr>\n",
       "    <tr>\n",
       "      <th>3</th>\n",
       "      <td>37.20</td>\n",
       "      <td>1.5</td>\n",
       "    </tr>\n",
       "    <tr>\n",
       "      <th>4</th>\n",
       "      <td>37.20</td>\n",
       "      <td>2.0</td>\n",
       "    </tr>\n",
       "    <tr>\n",
       "      <th>5</th>\n",
       "      <td>37.20</td>\n",
       "      <td>2.5</td>\n",
       "    </tr>\n",
       "    <tr>\n",
       "      <th>6</th>\n",
       "      <td>37.20</td>\n",
       "      <td>3.0</td>\n",
       "    </tr>\n",
       "    <tr>\n",
       "      <th>7</th>\n",
       "      <td>37.10</td>\n",
       "      <td>4.0</td>\n",
       "    </tr>\n",
       "    <tr>\n",
       "      <th>8</th>\n",
       "      <td>37.10</td>\n",
       "      <td>5.0</td>\n",
       "    </tr>\n",
       "    <tr>\n",
       "      <th>9</th>\n",
       "      <td>36.90</td>\n",
       "      <td>6.0</td>\n",
       "    </tr>\n",
       "    <tr>\n",
       "      <th>10</th>\n",
       "      <td>36.50</td>\n",
       "      <td>7.0</td>\n",
       "    </tr>\n",
       "    <tr>\n",
       "      <th>11</th>\n",
       "      <td>35.60</td>\n",
       "      <td>8.0</td>\n",
       "    </tr>\n",
       "    <tr>\n",
       "      <th>12</th>\n",
       "      <td>33.90</td>\n",
       "      <td>9.0</td>\n",
       "    </tr>\n",
       "    <tr>\n",
       "      <th>13</th>\n",
       "      <td>31.20</td>\n",
       "      <td>10.0</td>\n",
       "    </tr>\n",
       "    <tr>\n",
       "      <th>14</th>\n",
       "      <td>27.20</td>\n",
       "      <td>11.0</td>\n",
       "    </tr>\n",
       "    <tr>\n",
       "      <th>15</th>\n",
       "      <td>21.80</td>\n",
       "      <td>12.0</td>\n",
       "    </tr>\n",
       "    <tr>\n",
       "      <th>16</th>\n",
       "      <td>15.90</td>\n",
       "      <td>13.0</td>\n",
       "    </tr>\n",
       "    <tr>\n",
       "      <th>17</th>\n",
       "      <td>10.14</td>\n",
       "      <td>14.0</td>\n",
       "    </tr>\n",
       "    <tr>\n",
       "      <th>18</th>\n",
       "      <td>5.33</td>\n",
       "      <td>15.0</td>\n",
       "    </tr>\n",
       "    <tr>\n",
       "      <th>19</th>\n",
       "      <td>2.30</td>\n",
       "      <td>16.0</td>\n",
       "    </tr>\n",
       "    <tr>\n",
       "      <th>20</th>\n",
       "      <td>0.80</td>\n",
       "      <td>17.0</td>\n",
       "    </tr>\n",
       "    <tr>\n",
       "      <th>21</th>\n",
       "      <td>0.28</td>\n",
       "      <td>18.0</td>\n",
       "    </tr>\n",
       "    <tr>\n",
       "      <th>22</th>\n",
       "      <td>0.29</td>\n",
       "      <td>19.0</td>\n",
       "    </tr>\n",
       "    <tr>\n",
       "      <th>23</th>\n",
       "      <td>0.27</td>\n",
       "      <td>20.0</td>\n",
       "    </tr>\n",
       "    <tr>\n",
       "      <th>24</th>\n",
       "      <td>0.07</td>\n",
       "      <td>21.0</td>\n",
       "    </tr>\n",
       "  </tbody>\n",
       "</table>\n",
       "</div>"
      ],
      "text/plain": [
       "    Intensity  Position\n",
       "0       37.10       0.0\n",
       "1       37.10       0.5\n",
       "2       37.10       1.0\n",
       "3       37.20       1.5\n",
       "4       37.20       2.0\n",
       "5       37.20       2.5\n",
       "6       37.20       3.0\n",
       "7       37.10       4.0\n",
       "8       37.10       5.0\n",
       "9       36.90       6.0\n",
       "10      36.50       7.0\n",
       "11      35.60       8.0\n",
       "12      33.90       9.0\n",
       "13      31.20      10.0\n",
       "14      27.20      11.0\n",
       "15      21.80      12.0\n",
       "16      15.90      13.0\n",
       "17      10.14      14.0\n",
       "18       5.33      15.0\n",
       "19       2.30      16.0\n",
       "20       0.80      17.0\n",
       "21       0.28      18.0\n",
       "22       0.29      19.0\n",
       "23       0.27      20.0\n",
       "24       0.07      21.0"
      ]
     },
     "execution_count": 7,
     "metadata": {},
     "output_type": "execute_result"
    }
   ],
   "source": [
    "# here, pandas is used only for showing the plot\n",
    "df = pandas.DataFrame({\n",
    "    'Position': x, 'Intensity': p\n",
    "   })\n",
    "df"
   ]
  },
  {
   "cell_type": "code",
   "execution_count": 8,
   "metadata": {},
   "outputs": [
    {
     "name": "stdout",
     "output_type": "stream",
     "text": [
      "falling\n"
     ]
    }
   ],
   "source": [
    "# Guessing the fitting parameters\n",
    "power_guess = np.max(p)\n",
    "position_guess = 9\n",
    "diameter_guess = 10\n",
    "# and doing the fit\n",
    "if p[0]<p[-1]:\n",
    "    print(\"rising\")\n",
    "    popt, pcov = curve_fit(func_rising, x, p, p0=[power_guess,position_guess,diameter_guess])\n",
    "else:\n",
    "    print(\"falling\")\n",
    "    popt, pcov = curve_fit(func_falling, x, p, p0=[36,12,10])"
   ]
  },
  {
   "cell_type": "code",
   "execution_count": 9,
   "metadata": {},
   "outputs": [
    {
     "data": {
      "text/plain": [
       "[<matplotlib.lines.Line2D at 0x7f079df73908>]"
      ]
     },
     "execution_count": 9,
     "metadata": {},
     "output_type": "execute_result"
    },
    {
     "data": {
      "image/png": "[encoded data removed]",
      "text/plain": [
       "<matplotlib.figure.Figure at 0x7f07a1711588>"
      ]
     },
     "metadata": {},
     "output_type": "display_data"
    }
   ],
   "source": [
    "fig = plt.figure()\n",
    "fig.set_size_inches(10, 8)\n",
    "ax = fig.add_subplot(111)\n",
    "\n",
    "ax.plot(x,p,'ko', label=\"Original Data\")\n",
    "ax.plot(x,func_falling(x, *popt), 'r-', label=\"Fitted Curve\")\n"
   ]
  },
  {
   "cell_type": "code",
   "execution_count": 10,
   "metadata": {},
   "outputs": [
    {
     "name": "stdout",
     "output_type": "stream",
     "text": [
      "1/e^2-radius is:  4.85659804876\n",
      "1/e^2-Diameter is:  9.71319609752\n"
     ]
    }
   ],
   "source": [
    "print(\"1/e^2-radius is: \", popt[2])\n",
    "print(\"1/e^2-Diameter is: \", 2*popt[2])"
   ]
  },
  {
   "cell_type": "markdown",
   "metadata": {},
   "source": [
    "        VECSEL:  1/e^2-radius is:  4.8565980487   /   1/e^2-Diameter is:  9.71319609752\n",
    "        Maitai:  1/e^2-radius is:  5.69210823295 / 1/e^2-Diameter is:  11.3842164659\n"
   ]
  }
 ],
 "metadata": {
  "kernelspec": {
   "display_name": "Python 3",
   "language": "python",
   "name": "python3"
  },
  "language_info": {
   "codemirror_mode": {
    "name": "ipython",
    "version": 3
   },
   "file_extension": ".py",
   "mimetype": "text/x-python",
   "name": "python",
   "nbconvert_exporter": "python",
   "pygments_lexer": "ipython3",
   "version": "3.6.1"
  }
 },
 "nbformat": 4,
 "nbformat_minor": 1
}
